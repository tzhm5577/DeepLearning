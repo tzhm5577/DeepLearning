{
 "cells": [
  {
   "cell_type": "markdown",
   "metadata": {},
   "source": [
    "## 准备数据"
   ]
  },
  {
   "cell_type": "code",
   "execution_count": 1,
   "metadata": {},
   "outputs": [],
   "source": [
    "import os\n",
    "import numpy as np\n",
    "import tensorflow as tf\n",
    "from tensorflow import keras\n",
    "from tensorflow.keras import layers, optimizers, datasets\n",
    "\n",
    "os.environ['TF_CPP_MIN_LOG_LEVEL'] = '2'  # or any {'0', '1', '2'}\n",
    "\n",
    "def mnist_dataset():\n",
    "    (x, y), (x_test, y_test) = datasets.mnist.load_data()\n",
    "    #normalize\n",
    "    x = x/255.0\n",
    "    x_test = x_test/255.0\n",
    "    \n",
    "    return (x, y), (x_test, y_test)"
   ]
  },
  {
   "cell_type": "code",
   "execution_count": 2,
   "metadata": {},
   "outputs": [
    {
     "name": "stdout",
     "output_type": "stream",
     "text": [
      "[(1, 'a'), (2, 'b'), (3, 'c'), (4, 'd')]\n"
     ]
    }
   ],
   "source": [
    "print(list(zip([1, 2, 3, 4], ['a', 'b', 'c', 'd'])))"
   ]
  },
  {
   "cell_type": "markdown",
   "metadata": {},
   "source": [
    "## 建立模型"
   ]
  },
  {
   "cell_type": "code",
   "execution_count": 3,
   "metadata": {},
   "outputs": [],
   "source": [
    "class myModel:\n",
    "    def __init__(self):\n",
    "        ####################\n",
    "        '''声明模型对应的参数'''\n",
    "        ####################\n",
    "        self.W1 = tf.Variable(tf.random.truncated_normal([784, 128], stddev=0.1))\n",
    "        self.b1 = tf.Variable(tf.zeros([128]))\n",
    "        # 第二层权重和偏置\n",
    "        self.W2 = tf.Variable(tf.random.truncated_normal([128, 10], stddev=0.1))\n",
    "        self.b2 = tf.Variable(tf.zeros([10]))\n",
    "    def __call__(self, x):\n",
    "        ####################\n",
    "        '''实现模型函数体，返回未归一化的logits'''\n",
    "        ####################\n",
    "        x = tf.reshape(x, [-1, 784])\n",
    "        # ReLU\n",
    "        h1 = tf.nn.relu(tf.matmul(x, self.W1) + self.b1)\n",
    "        # 输出logits\n",
    "        logits = tf.matmul(h1, self.W2) + self.b2\n",
    "        \n",
    "        return logits\n",
    "        \n",
    "model = myModel()\n",
    "\n",
    "optimizer = optimizers.Adam()"
   ]
  },
  {
   "cell_type": "markdown",
   "metadata": {},
   "source": [
    "## 计算 loss"
   ]
  },
  {
   "cell_type": "code",
   "execution_count": 4,
   "metadata": {},
   "outputs": [],
   "source": [
    "@tf.function\n",
    "def compute_loss(logits, labels):\n",
    "    return tf.reduce_mean(\n",
    "        tf.nn.sparse_softmax_cross_entropy_with_logits(\n",
    "            logits=logits, labels=labels))\n",
    "\n",
    "@tf.function\n",
    "def compute_accuracy(logits, labels):\n",
    "    predictions = tf.argmax(logits, axis=1)\n",
    "    return tf.reduce_mean(tf.cast(tf.equal(predictions, labels), tf.float32))\n",
    "\n",
    "@tf.function\n",
    "def train_one_step(model, optimizer, x, y):\n",
    "    with tf.GradientTape() as tape:\n",
    "        logits = model(x)\n",
    "        loss = compute_loss(logits, y)\n",
    "\n",
    "    # compute gradient\n",
    "    trainable_vars = [model.W1, model.W2, model.b1, model.b2]\n",
    "    grads = tape.gradient(loss, trainable_vars)\n",
    "    for g, v in zip(grads, trainable_vars):\n",
    "        v.assign_sub(0.01*g)\n",
    "\n",
    "    accuracy = compute_accuracy(logits, y)\n",
    "\n",
    "    # loss and accuracy is scalar tensor\n",
    "    return loss, accuracy\n",
    "\n",
    "@tf.function\n",
    "def test(model, x, y):\n",
    "    logits = model(x)\n",
    "    loss = compute_loss(logits, y)\n",
    "    accuracy = compute_accuracy(logits, y)\n",
    "    return loss, accuracy"
   ]
  },
  {
   "cell_type": "markdown",
   "metadata": {},
   "source": [
    "## 实际训练"
   ]
  },
  {
   "cell_type": "code",
   "execution_count": 15,
   "metadata": {},
   "outputs": [
    {
     "name": "stdout",
     "output_type": "stream",
     "text": [
      "epoch 0 : loss 0.7281257 ; accuracy 0.8229\n",
      "epoch 1 : loss 0.7272714 ; accuracy 0.82308334\n",
      "epoch 2 : loss 0.72642016 ; accuracy 0.8232667\n",
      "epoch 3 : loss 0.7255724 ; accuracy 0.82338333\n",
      "epoch 4 : loss 0.7247279 ; accuracy 0.8235\n",
      "epoch 5 : loss 0.7238867 ; accuracy 0.8236833\n",
      "epoch 6 : loss 0.72304875 ; accuracy 0.82383335\n",
      "epoch 7 : loss 0.722214 ; accuracy 0.8239833\n",
      "epoch 8 : loss 0.7213825 ; accuracy 0.8241\n",
      "epoch 9 : loss 0.7205542 ; accuracy 0.8243167\n",
      "epoch 10 : loss 0.7197289 ; accuracy 0.82446665\n",
      "epoch 11 : loss 0.7189069 ; accuracy 0.8246\n",
      "epoch 12 : loss 0.7180879 ; accuracy 0.82483333\n",
      "epoch 13 : loss 0.717272 ; accuracy 0.82505\n",
      "epoch 14 : loss 0.7164593 ; accuracy 0.82525\n",
      "epoch 15 : loss 0.7156495 ; accuracy 0.8254\n",
      "epoch 16 : loss 0.7148429 ; accuracy 0.82555\n",
      "epoch 17 : loss 0.7140392 ; accuracy 0.82563335\n",
      "epoch 18 : loss 0.71323866 ; accuracy 0.8258\n",
      "epoch 19 : loss 0.71244115 ; accuracy 0.82593334\n",
      "epoch 20 : loss 0.71164644 ; accuracy 0.8260667\n",
      "epoch 21 : loss 0.7108547 ; accuracy 0.82628334\n",
      "epoch 22 : loss 0.710066 ; accuracy 0.82638335\n",
      "epoch 23 : loss 0.7092802 ; accuracy 0.82645\n",
      "epoch 24 : loss 0.7084972 ; accuracy 0.82665\n",
      "epoch 25 : loss 0.7077171 ; accuracy 0.8268667\n",
      "epoch 26 : loss 0.7069398 ; accuracy 0.82703334\n",
      "epoch 27 : loss 0.7061655 ; accuracy 0.8272667\n",
      "epoch 28 : loss 0.705394 ; accuracy 0.82745\n",
      "epoch 29 : loss 0.70462525 ; accuracy 0.82755\n",
      "epoch 30 : loss 0.70385945 ; accuracy 0.82771665\n",
      "epoch 31 : loss 0.7030964 ; accuracy 0.82781667\n",
      "epoch 32 : loss 0.7023362 ; accuracy 0.82795\n",
      "epoch 33 : loss 0.7015788 ; accuracy 0.82808334\n",
      "epoch 34 : loss 0.7008242 ; accuracy 0.8282667\n",
      "epoch 35 : loss 0.7000723 ; accuracy 0.8285\n",
      "epoch 36 : loss 0.6993232 ; accuracy 0.8287\n",
      "epoch 37 : loss 0.6985768 ; accuracy 0.8289\n",
      "epoch 38 : loss 0.6978331 ; accuracy 0.8289833\n",
      "epoch 39 : loss 0.6970921 ; accuracy 0.82913333\n",
      "epoch 40 : loss 0.69635373 ; accuracy 0.82913333\n",
      "epoch 41 : loss 0.6956181 ; accuracy 0.82926667\n",
      "epoch 42 : loss 0.694885 ; accuracy 0.8294167\n",
      "epoch 43 : loss 0.69415456 ; accuracy 0.82958335\n",
      "epoch 44 : loss 0.69342667 ; accuracy 0.8296667\n",
      "epoch 45 : loss 0.69270146 ; accuracy 0.82985\n",
      "epoch 46 : loss 0.6919788 ; accuracy 0.82995\n",
      "epoch 47 : loss 0.69125885 ; accuracy 0.8300667\n",
      "epoch 48 : loss 0.6905414 ; accuracy 0.8301167\n",
      "epoch 49 : loss 0.6898264 ; accuracy 0.83025\n",
      "test loss 0.6576251 ; accuracy 0.8414\n"
     ]
    }
   ],
   "source": [
    "train_data, test_data = mnist_dataset()\n",
    "for epoch in range(50):\n",
    "    loss, accuracy = train_one_step(model, optimizer, \n",
    "                                    tf.constant(train_data[0], dtype=tf.float32), \n",
    "                                    tf.constant(train_data[1], dtype=tf.int64))\n",
    "    print('epoch', epoch, ': loss', loss.numpy(), '; accuracy', accuracy.numpy())\n",
    "loss, accuracy = test(model, \n",
    "                      tf.constant(test_data[0], dtype=tf.float32), \n",
    "                      tf.constant(test_data[1], dtype=tf.int64))\n",
    "\n",
    "print('test loss', loss.numpy(), '; accuracy', accuracy.numpy())"
   ]
  },
  {
   "cell_type": "code",
   "execution_count": null,
   "metadata": {},
   "outputs": [],
   "source": []
  }
 ],
 "metadata": {
  "kernelspec": {
   "display_name": "Python (myenv)",
   "language": "python",
   "name": "myenv"
  },
  "language_info": {
   "codemirror_mode": {
    "name": "ipython",
    "version": 3
   },
   "file_extension": ".py",
   "mimetype": "text/x-python",
   "name": "python",
   "nbconvert_exporter": "python",
   "pygments_lexer": "ipython3",
   "version": "3.11.10"
  }
 },
 "nbformat": 4,
 "nbformat_minor": 4
}
